{
 "cells": [
  {
   "cell_type": "code",
   "execution_count": 54,
   "id": "f3d48994-742b-49f3-9a08-2e72a67d881d",
   "metadata": {},
   "outputs": [],
   "source": [
    "import os\n",
    "from pathlib import Path\n",
    "\n",
    "import pandas as pd\n",
    "\n",
    "LEVEL = 12\n",
    "\n",
    "music_master = pd.read_csv(\"../../data/notes.csv\", na_values=\"-\",\n",
    "                           usecols=[\n",
    "                               \"version\", \"title\", \"hyperNotes\", \"anotherNotes\", \"leggendariaNotes\",\n",
    "                               \"hyperLevel\", \"anotherLevel\", \"leggendariaLevel\"\n",
    "                           ])\n",
    "filtered_master = music_master[(music_master[\"hyperLevel\"] == LEVEL) |\n",
    "                               (music_master[\"anotherLevel\"] == LEVEL) |\n",
    "                               (music_master[\"leggendariaLevel\"] == LEVEL)]\n",
    "\n",
    "versions = [\"27\", \"28\", \"29\"]\n",
    "for version in versions:\n",
    "    os.makedirs(\"../../data/data_preparation/\" + version, exist_ok=True)\n",
    "    dir_path = Path(\"../../data/\" + version)\n",
    "    file_list = dir_path.glob(\"*.csv\")\n",
    "    \n",
    "    concat = None\n",
    "    for file in file_list:\n",
    "        if \"00_全国\" in file.name:\n",
    "            continue\n",
    "        \n",
    "        ranker_scores = pd.read_csv(\"../../data/\" + version + \"/\" + file.name,\n",
    "                                    usecols=[\n",
    "                                        \"タイトル\", \"HYPER EXスコア\", \"HYPER DJName\", \"HYPER 都道府県\",\n",
    "                                        \"ANOTHER EXスコア\", \"ANOTHER DJName\", \"ANOTHER 都道府県\",\n",
    "                                        \"LEGGENDARIA EXスコア\", \"LEGGENDARIA DJName\", \"LEGGENDARIA 都道府県\"\n",
    "                                    ])\n",
    "        joined = pd.merge(filtered_master, ranker_scores, left_on=\"title\", right_on=\"タイトル\", how=\"inner\")\n",
    "        \n",
    "        if concat is None:\n",
    "            concat = joined\n",
    "        else:\n",
    "            concat = pd.concat([concat, joined])\n",
    "    \n",
    "    concat[\"HYPER 順位\"] = concat.groupby([\"title\"])[\"HYPER EXスコア\"].rank(ascending=False)\n",
    "    concat[\"ANOTHER 順位\"] = concat.groupby([\"title\"])[\"ANOTHER EXスコア\"].rank(ascending=False)\n",
    "    concat[\"LEGGENDARIA 順位\"] = concat.groupby([\"title\"])[\"LEGGENDARIA EXスコア\"].rank(ascending=False)\n",
    "    concat.sort_values([\"title\"]).to_csv(\"../../data/data_preparation/\" + version + \"_concat.csv\", index=False)\n",
    "\n",
    "total = []\n",
    "for version in versions:\n",
    "    csv = pd.read_csv(\"../../data/data_preparation/\" + version + \"_concat.csv\")\n",
    "    total.append(csv)\n",
    "    \n",
    "pd.concat(total).sort_values([\"title\"]).to_csv(\"../../data/data_preparation/concat.csv\", index=False)"
   ]
  }
 ],
 "metadata": {
  "kernelspec": {
   "display_name": "Python 3 (ipykernel)",
   "language": "python",
   "name": "python3"
  },
  "language_info": {
   "codemirror_mode": {
    "name": "ipython",
    "version": 3
   },
   "file_extension": ".py",
   "mimetype": "text/x-python",
   "name": "python",
   "nbconvert_exporter": "python",
   "pygments_lexer": "ipython3",
   "version": "3.10.5"
  }
 },
 "nbformat": 4,
 "nbformat_minor": 5
}
